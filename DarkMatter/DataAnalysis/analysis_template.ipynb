{
 "cells": [
  {
   "cell_type": "code",
   "execution_count": null,
   "id": "c1a168ee",
   "metadata": {
    "vscode": {
     "languageId": "plaintext"
    }
   },
   "outputs": [],
   "source": [
    "import uproot\n",
    "import matplotlib.pyplot as plt\n",
    "import awkward as ak\n",
    "import numpy as np"
   ]
  },
  {
   "cell_type": "code",
   "execution_count": null,
   "id": "2554aa5c",
   "metadata": {
    "vscode": {
     "languageId": "plaintext"
    }
   },
   "outputs": [],
   "source": [
    "# root con -n 1000\n",
    "root_path = \"/mnt/ArchivosCompartidos/BeyondSM/DarkMatter/RootFiles/NanoAOD.root\"\n",
    "# root con -n 100\n",
    "#root_path = \"/mnt/ArchivosCompartidos/BeyondSM/DarkMatter/RootFiles/NANO.root\""
   ]
  },
  {
   "cell_type": "code",
   "execution_count": null,
   "id": "dada9550",
   "metadata": {
    "vscode": {
     "languageId": "plaintext"
    }
   },
   "outputs": [],
   "source": [
    "# Abrir archivo .root y árbol NanoAOD\n",
    "file = uproot.open(root_path)\n",
    "tree = file[\"Events\"]  # o verifica con file.keys()\n",
    "\n",
    "# Leer la rama de interés\n",
    "arrays = tree.arrays([\"Muon_pt\"], library=\"ak\")\n",
    "muon_pt = arrays[\"Muon_pt\"]\n",
    "\n",
    "# Convertir a array plano\n",
    "flat_muon_pt = ak.flatten(muon_pt)\n",
    "\n",
    "# Filtrar si quieres solo valores mayores a cierto umbral\n",
    "flat_muon_pt = flat_muon_pt[flat_muon_pt > 5]  # opcional: pT mínimo\n",
    "\n",
    "# Construir histograma\n",
    "plt.hist(flat_muon_pt, bins=20, range=(0, 100), histtype='step', linewidth=1.5)\n",
    "plt.xlabel(\"Muon $p_T$ [GeV]\")\n",
    "plt.ylabel(\"Eventos\")\n",
    "plt.title(\"Distribución de $p_T$ de muones\")\n",
    "plt.grid(True)\n",
    "plt.tight_layout()\n",
    "plt.show()"
   ]
  },
  {
   "cell_type": "code",
   "execution_count": null,
   "id": "4f6dad59",
   "metadata": {
    "vscode": {
     "languageId": "plaintext"
    }
   },
   "outputs": [],
   "source": [
    "file = uproot.open(root_path)\n",
    "events = file[\"Events\"]\n",
    "\n",
    "\n",
    "muon_pt = events[\"Muon_pt\"].array()\n",
    "muon_eta = events[\"Muon_eta\"].array()\n",
    "muon_phi = events[\"Muon_phi\"].array()\n",
    "met_pt = events[\"MET_pt\"].array()\n",
    "met_phi = events[\"MET_phi\"].array()\n",
    "\n",
    "\n",
    "has_2muons = ak.num(muon_pt) == 2\n",
    "muons_2 = muon_pt[has_2muons]\n",
    "met_2 = met_pt[has_2muons]\n",
    "\n",
    "\n",
    "mu1_pt = muons_2[:, 0]\n",
    "mu2_pt = muons_2[:, 1]\n",
    "\n",
    "\n",
    "plt.hist(met_2, bins=30, histtype=\"step\", label=\"MET en eventos con 2 muones\")\n",
    "plt.xlabel(\"MET [GeV]\")\n",
    "plt.ylabel(\"Eventos\")\n",
    "plt.title(\"Distribución de MET\")\n",
    "plt.legend()\n",
    "plt.grid()\n",
    "plt.show()"
   ]
  }
 ],
 "metadata": {
  "language_info": {
   "name": "python"
  }
 },
 "nbformat": 4,
 "nbformat_minor": 5
}
