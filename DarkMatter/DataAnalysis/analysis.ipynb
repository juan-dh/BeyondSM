{
 "cells": [
  {
   "cell_type": "code",
   "execution_count": null,
   "id": "c1a168ee",
   "metadata": {
    "vscode": {
     "languageId": "plaintext"
    }
   },
   "outputs": [],
   "source": [
    "import uproot\n",
    "import matplotlib.pyplot as plt"
   ]
  },
  {
   "cell_type": "code",
   "execution_count": null,
   "id": "2554aa5c",
   "metadata": {
    "vscode": {
     "languageId": "plaintext"
    }
   },
   "outputs": [],
   "source": [
    "with uproot.open(\"/app/BeyondSM/DarkMatter/RootFiles/NanoAOD.root\") as file:\n",
    "    tree = file[\"Events\"]\n",
    "    muon_pt = tree[\"Muon_pt\"].array(library=\"np\")\n",
    "    electron_pt = tree[\"Electron_pt\"].array(library=\"np\")"
   ]
  },
  {
   "cell_type": "code",
   "execution_count": null,
   "id": "dada9550",
   "metadata": {
    "vscode": {
     "languageId": "plaintext"
    }
   },
   "outputs": [],
   "source": [
    "plt.hist(muon_pt, bins=50, range=(0, 200), histtype='step', label=\"Señal\")\n",
    "plt.xlabel(\"Muon pT [GeV]\")\n",
    "plt.ylabel(\"Eventos\")\n",
    "plt.legend()\n",
    "plt.show()"
   ]
  },
  {
   "cell_type": "code",
   "execution_count": null,
   "id": "aec46db4",
   "metadata": {
    "vscode": {
     "languageId": "plaintext"
    }
   },
   "outputs": [],
   "source": [
    "plt.hist(electron_pt, bins=20, range=(0, 80), histtype='step', label=\"Señal\")\n",
    "plt.xlabel(\"Electron pT [GeV]\")\n",
    "plt.ylabel(\"Eventos\")\n",
    "plt.legend()\n",
    "plt.show()"
   ]
  }
 ],
 "metadata": {
  "language_info": {
   "name": "python"
  }
 },
 "nbformat": 4,
 "nbformat_minor": 5
}
